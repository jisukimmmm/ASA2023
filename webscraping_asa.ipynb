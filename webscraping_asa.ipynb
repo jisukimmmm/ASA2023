{
  "cells": [
    {
      "cell_type": "code",
      "execution_count": null,
      "id": "198b0d5c-4e28-4099-891d-35bba3ebab65",
      "metadata": {
        "id": "198b0d5c-4e28-4099-891d-35bba3ebab65"
      },
      "outputs": [],
      "source": [
        "import requests\n",
        "from bs4 import BeautifulSoup\n",
        "import re\n",
        "\n",
        "URL = \"https://www.washingtonpost.com/opinions/2023/07/24/musk-twitter-logo-x-rebrand/\"\n",
        "page = requests.get(URL)\n",
        "soup = BeautifulSoup(page.content, \"html.parser\")\n",
        "# print(page.text)"
      ]
    },
    {
      "cell_type": "code",
      "execution_count": null,
      "id": "148ea097-c10e-488b-b3c4-41ddb1913a8a",
      "metadata": {
        "id": "148ea097-c10e-488b-b3c4-41ddb1913a8a"
      },
      "outputs": [],
      "source": [
        "# for cleaning text: This function accepts a text input, eliminates all non-alphanumeric characters, and outputs only letters and digits.\n",
        "removelist = \".\"\n",
        "clean = lambda s: str(re.sub('[\\W_]+removelist+', ' ', s))"
      ]
    },
    {
      "cell_type": "markdown",
      "id": "6d813680-3a0b-4254-9eca-97e145edd85c",
      "metadata": {
        "id": "6d813680-3a0b-4254-9eca-97e145edd85c"
      },
      "source": [
        "## Extract title of the article"
      ]
    },
    {
      "cell_type": "code",
      "execution_count": null,
      "id": "2b8c63a8-36a4-4f95-a9e6-a3097310ed51",
      "metadata": {
        "colab": {
          "base_uri": "https://localhost:8080/"
        },
        "id": "2b8c63a8-36a4-4f95-a9e6-a3097310ed51",
        "outputId": "299463f2-fa85-4796-ecab-9429aed0ff00"
      },
      "outputs": [
        {
          "output_type": "stream",
          "name": "stdout",
          "text": [
            "Twitter removing the little blue bird is about more than a logo\n"
          ]
        }
      ],
      "source": [
        "t=soup.find('span', attrs={ \"data-qa\": \"headline-opinion-text\"})\n",
        "\n",
        "title=' '.join([clean(s.text) for s in t])\n",
        "print(title)"
      ]
    },
    {
      "cell_type": "markdown",
      "id": "8cb3a9d1-0e73-476b-8d72-04068e084869",
      "metadata": {
        "id": "8cb3a9d1-0e73-476b-8d72-04068e084869"
      },
      "source": [
        "## Extract date and time of when the article was published"
      ]
    },
    {
      "cell_type": "code",
      "execution_count": null,
      "id": "d97cfeaf-ba0c-438d-81b6-b6f53d899217",
      "metadata": {
        "colab": {
          "base_uri": "https://localhost:8080/"
        },
        "id": "d97cfeaf-ba0c-438d-81b6-b6f53d899217",
        "outputId": "441ad11d-cbf9-4eed-c1eb-d9cec7e69638"
      },
      "outputs": [
        {
          "output_type": "stream",
          "name": "stdout",
          "text": [
            "July 24 2023 at 5 33 p m EDT\n"
          ]
        }
      ],
      "source": [
        "tt=soup.find('span', attrs={ \"data-testid\": \"display-date\"})\n",
        "\n",
        "datetime=' '.join([clean(s.text) for s in tt])\n",
        "print(datetime)"
      ]
    },
    {
      "cell_type": "markdown",
      "id": "bbb6844c-adf8-4203-bb76-f321c10c6784",
      "metadata": {
        "id": "bbb6844c-adf8-4203-bb76-f321c10c6784"
      },
      "source": [
        "## Extract article"
      ]
    },
    {
      "cell_type": "code",
      "execution_count": null,
      "id": "535e1a8e-0277-4684-859c-3c69a93f7170",
      "metadata": {
        "colab": {
          "base_uri": "https://localhost:8080/"
        },
        "id": "535e1a8e-0277-4684-859c-3c69a93f7170",
        "outputId": "afc26a66-3923-4617-97f7-d9582c79c1dc"
      },
      "outputs": [
        {
          "output_type": "stream",
          "name": "stdout",
          "text": [
            "Over the past few months, reports of Twitter’s death have been greatly exaggerated. Now, however, Elon Musk has made it official: Twitter — or, at least, “Twitter” — is no more. Let us mourn the cheery little blue bird. The microblogging platform owner and Tesla CEO announced this weekend that Twitter would rebrand to “X.” The gambit is part of Mr. Musk’s long-standing desire to build what he has called an “everything app” — with communications, payments and any other functionality a consumer might desire all part of the package, much like Tencent’s WeChat in China or Grab in Southeast Asia. Or as Twitter chief executive Linda Yaccarino tweeted  (if we may still refer to it as “tweeting”), “X is the future state of unlimited interactivity.” We’ll see how Mr. Musk, having driven away many of the advertisers that bolstered Twitter’s value, gets along after annihilating another of the platform’s most valuable assets: its brand. In any case, the moment is somber. Twitter today is already worse than Twitter a year ago. There is more hate and more harassment, and there was plenty of that to start with. There are more junk promotions for products that seem too niche — or too tacky — to justify their existence elsewhere: a horse’s head superimposed on a heartbeat line on a T-shirt designed “only for real Horse Lovers,” for instance. There are more algorithmically amplified tweets from Mr. Musk’s hand-selected VIP users, including, of course, Mr. Musk himself. And that’s when the site is working at all. 1/5 But somehow, despite the greater practical importance of these accumulating shortfalls, the loss of the little blue bird pecks at the heartstrings. The image of the small, chirping creature lent an air of lightness to the platform. It reminded users, often under the impression that they and their online conversations represented the center of the universe, not to take themselves too seriously. They weren’t there to solve the Israeli-Palestinian conflict or write the modern-day Gettysburg Address. They were there simply to express whatever thoughts might fit into 280 characters. There was fighting on Twitter long before Mr. Musk. There was polarization and fake news and medical misinformation and all manner of other ills. But Twitter was also a place for people to talk to other people who otherwise would never have the chance to hear them — to share thoughts and to make memes and to turn what started as a bunch of unidentified egg avatars into a community. At worst, these users were creating a cacophony. At best, they were listening to each other sing. “Soon we shall bid adieu to the twitter brand and, gradually, all the birds,” Mr. Musk tweeted on Sunday. We’d say rest in peace — but we can also hope they have flown away to a better place. Editorials represent the views of The Post as an institution, as determined through debate among members of the Editorial Board, based in the Opinions section and separate from the newsroom. Members of the Editorial Board and areas of focus: Opinion Editor David Shipley; Deputy Opinion Editor Karen Tumulty; Associate Opinion Editor Stephen Stromberg (national politics and policy); Lee Hockstader (European affairs, based in Paris); David E. Hoffman (global public health); James Hohmann (domestic policy and electoral politics, including the White House, Congress and governors); Charles Lane (foreign affairs, national security, international economics); Heather Long (economics); Associate Editor Ruth Marcus; Mili Mitra (public policy solutions and audience development); Keith B. Richburg (foreign affairs); and Molly Roberts (technology and society).\n"
          ]
        }
      ],
      "source": [
        "article = soup.body.findAll('article')\n",
        "text = ' '.join([clean(s.text) for s in article[0].findAll('p')])\n",
        "print(text)"
      ]
    },
    {
      "cell_type": "code",
      "execution_count": null,
      "id": "7dafac7b-1ddd-474e-bf40-20f9e8fb68e3",
      "metadata": {
        "colab": {
          "base_uri": "https://localhost:8080/"
        },
        "id": "7dafac7b-1ddd-474e-bf40-20f9e8fb68e3",
        "outputId": "3e07964e-e808-4b54-e7c3-289fd0780574"
      },
      "outputs": [
        {
          "output_type": "stream",
          "name": "stdout",
          "text": [
            "Over the past few months, reports of Twitter’s death have been greatly exaggerated. Now, however, Elon Musk has made it official: Twitter — or, at least, “Twitter” — is no more. Let us mourn the cheery little blue bird. The microblogging platform owner and Tesla CEO announced this weekend that Twitter would rebrand to “X.” The gambit is part of Mr. Musk’s long-standing desire to build what he has called an “everything app” — with communications, payments and any other functionality a consumer might desire all part of the package, much like Tencent’s WeChat in China or Grab in Southeast Asia. Or as Twitter chief executive Linda Yaccarino tweeted  (if we may still refer to it as “tweeting”), “X is the future state of unlimited interactivity.” We’ll see how Mr. Musk, having driven away many of the advertisers that bolstered Twitter’s value, gets along after annihilating another of the platform’s most valuable assets: its brand. In any case, the moment is somber. Twitter today is already worse than Twitter a year ago. There is more hate and more harassment, and there was plenty of that to start with. There are more junk promotions for products that seem too niche — or too tacky — to justify their existence elsewhere: a horse’s head superimposed on a heartbeat line on a T-shirt designed “only for real Horse Lovers,” for instance. There are more algorithmically amplified tweets from Mr. Musk’s hand-selected VIP users, including, of course, Mr. Musk himself. And that’s when the site is working at all. 1/5 But somehow, despite the greater practical importance of these accumulating shortfalls, the loss of the little blue bird pecks at the heartstrings. The image of the small, chirping creature lent an air of lightness to the platform. It reminded users, often under the impression that they and their online conversations represented the center of the universe, not to take themselves too seriously. They weren’t there to solve the Israeli-Palestinian conflict or write the modern-day Gettysburg Address. They were there simply to express whatever thoughts might fit into 280 characters. There was fighting on Twitter long before Mr. Musk. There was polarization and fake news and medical misinformation and all manner of other ills. But Twitter was also a place for people to talk to other people who otherwise would never have the chance to hear them — to share thoughts and to make memes and to turn what started as a bunch of unidentified egg avatars into a community. At worst, these users were creating a cacophony. At best, they were listening to each other sing. “Soon we shall bid adieu to the twitter brand and, gradually, all the birds,” Mr. Musk tweeted on Sunday. We’d say rest in peace — but we can also hope they have flown away to a better place. \n"
          ]
        }
      ],
      "source": [
        "# Remove 'About the Editorial Board'\n",
        "r='Editorials represent '\n",
        "\n",
        "head, sep, tail = text.partition(r)\n",
        "\n",
        "print(head)"
      ]
    },
    {
      "cell_type": "markdown",
      "id": "2ce87cbb-4eed-456c-b876-c65b7a98b732",
      "metadata": {
        "id": "2ce87cbb-4eed-456c-b876-c65b7a98b732"
      },
      "source": [
        "## Save data"
      ]
    },
    {
      "cell_type": "code",
      "execution_count": null,
      "id": "16e6293d-a77e-4596-a463-7e51e21fa727",
      "metadata": {
        "colab": {
          "base_uri": "https://localhost:8080/"
        },
        "id": "16e6293d-a77e-4596-a463-7e51e21fa727",
        "outputId": "e6e5d37d-5801-43ac-9f66-976fb2cbaee5"
      },
      "outputs": [
        {
          "output_type": "execute_result",
          "data": {
            "text/plain": [
              "['Twitter removing the little blue bird is about more than a logo',\n",
              " 'July 24 2023 at 5 33 p m EDT',\n",
              " 'Over the past few months, reports of Twitter’s death have been greatly exaggerated. Now, however, Elon Musk has made it official: Twitter — or, at least, “Twitter” — is no more. Let us mourn the cheery little blue bird. The microblogging platform owner and Tesla CEO announced this weekend that Twitter would rebrand to “X.” The gambit is part of Mr. Musk’s long-standing desire to build what he has called an “everything app” — with communications, payments and any other functionality a consumer might desire all part of the package, much like Tencent’s WeChat in China or Grab in Southeast Asia. Or as Twitter chief executive Linda Yaccarino tweeted  (if we may still refer to it as “tweeting”), “X is the future state of unlimited interactivity.” We’ll see how Mr. Musk, having driven away many of the advertisers that bolstered Twitter’s value, gets along after annihilating another of the platform’s most valuable assets: its brand. In any case, the moment is somber. Twitter today is already worse than Twitter a year ago. There is more hate and more harassment, and there was plenty of that to start with. There are more junk promotions for products that seem too niche — or too tacky — to justify their existence elsewhere: a horse’s head superimposed on a heartbeat line on a T-shirt designed “only for real Horse Lovers,” for instance. There are more algorithmically amplified tweets from Mr. Musk’s hand-selected VIP users, including, of course, Mr. Musk himself. And that’s when the site is working at all. 1/5 But somehow, despite the greater practical importance of these accumulating shortfalls, the loss of the little blue bird pecks at the heartstrings. The image of the small, chirping creature lent an air of lightness to the platform. It reminded users, often under the impression that they and their online conversations represented the center of the universe, not to take themselves too seriously. They weren’t there to solve the Israeli-Palestinian conflict or write the modern-day Gettysburg Address. They were there simply to express whatever thoughts might fit into 280 characters. There was fighting on Twitter long before Mr. Musk. There was polarization and fake news and medical misinformation and all manner of other ills. But Twitter was also a place for people to talk to other people who otherwise would never have the chance to hear them — to share thoughts and to make memes and to turn what started as a bunch of unidentified egg avatars into a community. At worst, these users were creating a cacophony. At best, they were listening to each other sing. “Soon we shall bid adieu to the twitter brand and, gradually, all the birds,” Mr. Musk tweeted on Sunday. We’d say rest in peace — but we can also hope they have flown away to a better place. ']"
            ]
          },
          "metadata": {},
          "execution_count": 38
        }
      ],
      "source": [
        "[title, datetime, head]"
      ]
    },
    {
      "cell_type": "code",
      "execution_count": null,
      "id": "86922603-023f-44f3-a470-a8c45c345f73",
      "metadata": {
        "id": "86922603-023f-44f3-a470-a8c45c345f73"
      },
      "outputs": [],
      "source": [
        "import pandas as pd\n",
        "df=pd.DataFrame([[title, datetime, head]],  columns=['title', 'datetime', 'text'])\n",
        "# df.to_csv('./washingtonpost.csv', index=False)"
      ]
    },
    {
      "cell_type": "markdown",
      "id": "a162d0df-139d-45ac-bb74-39ffec80b3a0",
      "metadata": {
        "id": "a162d0df-139d-45ac-bb74-39ffec80b3a0"
      },
      "source": [
        "## Sentiment analysis"
      ]
    },
    {
      "cell_type": "code",
      "execution_count": null,
      "id": "e73d2fc7-8b7e-4215-8786-c34805a24614",
      "metadata": {
        "colab": {
          "base_uri": "https://localhost:8080/"
        },
        "id": "e73d2fc7-8b7e-4215-8786-c34805a24614",
        "outputId": "6baa0115-b938-40e8-f4b4-3526795369b5"
      },
      "outputs": [
        {
          "output_type": "stream",
          "name": "stdout",
          "text": [
            "Collecting transformers\n",
            "  Downloading transformers-4.31.0-py3-none-any.whl (7.4 MB)\n",
            "\u001b[2K     \u001b[90m━━━━━━━━━━━━━━━━━━━━━━━━━━━━━━━━━━━━━━━━\u001b[0m \u001b[32m7.4/7.4 MB\u001b[0m \u001b[31m26.0 MB/s\u001b[0m eta \u001b[36m0:00:00\u001b[0m\n",
            "\u001b[?25hRequirement already satisfied: filelock in /usr/local/lib/python3.10/dist-packages (from transformers) (3.12.2)\n",
            "Collecting huggingface-hub<1.0,>=0.14.1 (from transformers)\n",
            "  Downloading huggingface_hub-0.16.4-py3-none-any.whl (268 kB)\n",
            "\u001b[2K     \u001b[90m━━━━━━━━━━━━━━━━━━━━━━━━━━━━━━━━━━━━━━\u001b[0m \u001b[32m268.8/268.8 kB\u001b[0m \u001b[31m25.3 MB/s\u001b[0m eta \u001b[36m0:00:00\u001b[0m\n",
            "\u001b[?25hRequirement already satisfied: numpy>=1.17 in /usr/local/lib/python3.10/dist-packages (from transformers) (1.22.4)\n",
            "Requirement already satisfied: packaging>=20.0 in /usr/local/lib/python3.10/dist-packages (from transformers) (23.1)\n",
            "Requirement already satisfied: pyyaml>=5.1 in /usr/local/lib/python3.10/dist-packages (from transformers) (6.0.1)\n",
            "Requirement already satisfied: regex!=2019.12.17 in /usr/local/lib/python3.10/dist-packages (from transformers) (2022.10.31)\n",
            "Requirement already satisfied: requests in /usr/local/lib/python3.10/dist-packages (from transformers) (2.27.1)\n",
            "Collecting tokenizers!=0.11.3,<0.14,>=0.11.1 (from transformers)\n",
            "  Downloading tokenizers-0.13.3-cp310-cp310-manylinux_2_17_x86_64.manylinux2014_x86_64.whl (7.8 MB)\n",
            "\u001b[2K     \u001b[90m━━━━━━━━━━━━━━━━━━━━━━━━━━━━━━━━━━━━━━━━\u001b[0m \u001b[32m7.8/7.8 MB\u001b[0m \u001b[31m73.8 MB/s\u001b[0m eta \u001b[36m0:00:00\u001b[0m\n",
            "\u001b[?25hCollecting safetensors>=0.3.1 (from transformers)\n",
            "  Downloading safetensors-0.3.1-cp310-cp310-manylinux_2_17_x86_64.manylinux2014_x86_64.whl (1.3 MB)\n",
            "\u001b[2K     \u001b[90m━━━━━━━━━━━━━━━━━━━━━━━━━━━━━━━━━━━━━━━━\u001b[0m \u001b[32m1.3/1.3 MB\u001b[0m \u001b[31m65.4 MB/s\u001b[0m eta \u001b[36m0:00:00\u001b[0m\n",
            "\u001b[?25hRequirement already satisfied: tqdm>=4.27 in /usr/local/lib/python3.10/dist-packages (from transformers) (4.65.0)\n",
            "Requirement already satisfied: fsspec in /usr/local/lib/python3.10/dist-packages (from huggingface-hub<1.0,>=0.14.1->transformers) (2023.6.0)\n",
            "Requirement already satisfied: typing-extensions>=3.7.4.3 in /usr/local/lib/python3.10/dist-packages (from huggingface-hub<1.0,>=0.14.1->transformers) (4.7.1)\n",
            "Requirement already satisfied: urllib3<1.27,>=1.21.1 in /usr/local/lib/python3.10/dist-packages (from requests->transformers) (1.26.16)\n",
            "Requirement already satisfied: certifi>=2017.4.17 in /usr/local/lib/python3.10/dist-packages (from requests->transformers) (2023.5.7)\n",
            "Requirement already satisfied: charset-normalizer~=2.0.0 in /usr/local/lib/python3.10/dist-packages (from requests->transformers) (2.0.12)\n",
            "Requirement already satisfied: idna<4,>=2.5 in /usr/local/lib/python3.10/dist-packages (from requests->transformers) (3.4)\n",
            "Installing collected packages: tokenizers, safetensors, huggingface-hub, transformers\n",
            "Successfully installed huggingface-hub-0.16.4 safetensors-0.3.1 tokenizers-0.13.3 transformers-4.31.0\n"
          ]
        }
      ],
      "source": [
        "pip install transformers\n"
      ]
    },
    {
      "cell_type": "code",
      "source": [
        "from transformers import RobertaTokenizer, RobertaForSequenceClassification\n",
        "import torch\n"
      ],
      "metadata": {
        "id": "y7ebNHX00VtV"
      },
      "id": "y7ebNHX00VtV",
      "execution_count": null,
      "outputs": []
    },
    {
      "cell_type": "code",
      "source": [
        "# Replace 'roberta-base' with the desired pre-trained model (e.g., 'roberta-large' for a larger model)\n",
        "tokenizer = RobertaTokenizer.from_pretrained('roberta-base')\n",
        "model = RobertaForSequenceClassification.from_pretrained('roberta-base')\n"
      ],
      "metadata": {
        "colab": {
          "base_uri": "https://localhost:8080/"
        },
        "id": "GZTuUdt40Wgo",
        "outputId": "36dc6500-7699-46e9-99bc-ea9b6565f652"
      },
      "id": "GZTuUdt40Wgo",
      "execution_count": null,
      "outputs": [
        {
          "output_type": "stream",
          "name": "stderr",
          "text": [
            "Some weights of RobertaForSequenceClassification were not initialized from the model checkpoint at roberta-base and are newly initialized: ['classifier.dense.weight', 'classifier.out_proj.bias', 'classifier.dense.bias', 'classifier.out_proj.weight']\n",
            "You should probably TRAIN this model on a down-stream task to be able to use it for predictions and inference.\n"
          ]
        }
      ]
    },
    {
      "cell_type": "code",
      "source": [
        "def preprocess_long_text(text, max_length=512):\n",
        "    # Split the long text into smaller chunks and encode them separately\n",
        "    chunks = [text[i:i + max_length] for i in range(0, len(text), max_length)]\n",
        "    input_ids = []\n",
        "    attention_masks = []\n",
        "\n",
        "    for chunk in chunks:\n",
        "        encoded_dict = tokenizer.encode_plus(\n",
        "            chunk,\n",
        "\n",
        "            add_special_tokens=True,\n",
        "            max_length=max_length,\n",
        "            padding='max_length',\n",
        "            return_attention_mask=True,\n",
        "            return_tensors='pt',\n",
        "            truncation=True\n",
        "        )\n",
        "        input_ids.append(encoded_dict['input_ids'])\n",
        "        attention_masks.append(encoded_dict['attention_mask'])\n",
        "\n",
        "    return torch.cat(input_ids, dim=0), torch.cat(attention_masks, dim=0)\n"
      ],
      "metadata": {
        "id": "JxQ_MtqI0czY"
      },
      "id": "JxQ_MtqI0czY",
      "execution_count": null,
      "outputs": []
    },
    {
      "cell_type": "code",
      "source": [
        "def analyze_sentiment(text):\n",
        "    # Preprocess the long text\n",
        "    input_ids, attention_masks = preprocess_long_text(text)\n",
        "\n",
        "    # Set the model to evaluation mode\n",
        "    model.eval()\n",
        "\n",
        "    # Make predictions\n",
        "    with torch.no_grad():\n",
        "        outputs = model(input_ids, attention_mask=attention_masks)\n",
        "\n",
        "    # Get the predicted probabilities for each class (negative, neutral, positive)\n",
        "    logits = outputs.logits\n",
        "    probabilities = torch.softmax(logits, dim=1)\n",
        "\n",
        "    # Determine the overall sentiment based on the class with the highest probability\n",
        "    sentiment_label = torch.argmax(probabilities[0]).item()\n",
        "    sentiment_score = probabilities[0][sentiment_label].item()\n",
        "\n",
        "    # Convert the sentiment label to a human-readable format\n",
        "    sentiment_classes = ['Negative', 'Neutral', 'Positive']\n",
        "    predicted_sentiment = sentiment_classes[sentiment_label]\n",
        "\n",
        "    return predicted_sentiment, sentiment_score\n"
      ],
      "metadata": {
        "id": "GJLJG2Mn0dzW"
      },
      "id": "GJLJG2Mn0dzW",
      "execution_count": null,
      "outputs": []
    },
    {
      "cell_type": "code",
      "source": [
        "predicted_sentiment, sentiment_score = analyze_sentiment(head)\n",
        "print(f\"Predicted Sentiment: {predicted_sentiment}\")\n",
        "print(f\"Sentiment Score: {sentiment_score}\")\n"
      ],
      "metadata": {
        "colab": {
          "base_uri": "https://localhost:8080/"
        },
        "id": "HCOGw71d0hjF",
        "outputId": "e143d31a-ec9d-448b-e669-489f1c7ac6d2"
      },
      "id": "HCOGw71d0hjF",
      "execution_count": null,
      "outputs": [
        {
          "output_type": "stream",
          "name": "stdout",
          "text": [
            "Predicted Sentiment: Negative\n",
            "Sentiment Score: 0.5112683773040771\n"
          ]
        }
      ]
    },
    {
      "cell_type": "code",
      "source": [],
      "metadata": {
        "id": "K94wDZfIIsL-"
      },
      "id": "K94wDZfIIsL-",
      "execution_count": null,
      "outputs": []
    }
  ],
  "metadata": {
    "kernelspec": {
      "display_name": "Python 3 (ipykernel)",
      "language": "python",
      "name": "python3"
    },
    "language_info": {
      "codemirror_mode": {
        "name": "ipython",
        "version": 3
      },
      "file_extension": ".py",
      "mimetype": "text/x-python",
      "name": "python",
      "nbconvert_exporter": "python",
      "pygments_lexer": "ipython3",
      "version": "3.9.15"
    },
    "colab": {
      "provenance": []
    }
  },
  "nbformat": 4,
  "nbformat_minor": 5
}